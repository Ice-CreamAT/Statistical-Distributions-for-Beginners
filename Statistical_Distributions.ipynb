{
  "nbformat": 4,
  "nbformat_minor": 0,
  "metadata": {
    "colab": {
      "provenance": [],
      "collapsed_sections": [
        "sTHjAi63KojX",
        "zNA-dbDpIQXe",
        "rQiVKzFRLFFc",
        "QCFFszqYNfPj",
        "LdHOW_uNWXqC",
        "QgK41ihaRYuY",
        "rU6wAoGJbSV9"
      ],
      "authorship_tag": "ABX9TyMyqFKUz7gDcVTjyBi7SANm",
      "include_colab_link": true
    },
    "kernelspec": {
      "name": "python3",
      "display_name": "Python 3"
    },
    "language_info": {
      "name": "python"
    }
  },
  "cells": [
    {
      "cell_type": "markdown",
      "metadata": {
        "id": "view-in-github",
        "colab_type": "text"
      },
      "source": [
        "<a href=\"https://colab.research.google.com/github/Ice-CreamAT/Statistical-Distributions-for-Beginners/blob/main/Statistical_Distributions.ipynb\" target=\"_parent\"><img src=\"https://colab.research.google.com/assets/colab-badge.svg\" alt=\"Open In Colab\"/></a>"
      ]
    },
    {
      "cell_type": "markdown",
      "source": [
        "#***GAUSSIAN DISTRIBUTION***"
      ],
      "metadata": {
        "id": "sTHjAi63KojX"
      }
    },
    {
      "cell_type": "code",
      "execution_count": null,
      "metadata": {
        "id": "eLkSC2Ul8YJd"
      },
      "outputs": [],
      "source": [
        "import pandas as pd\n",
        "import numpy as np\n",
        "import seaborn as sns\n",
        "from scipy import stats"
      ]
    },
    {
      "cell_type": "code",
      "source": [
        "normal_data = stats.norm.rvs(size=1000, random_state = 1)"
      ],
      "metadata": {
        "id": "LgyY_9CGvyiN"
      },
      "execution_count": null,
      "outputs": []
    },
    {
      "cell_type": "code",
      "source": [
        "normal_data"
      ],
      "metadata": {
        "colab": {
          "base_uri": "https://localhost:8080/"
        },
        "id": "W2gSIBp0DyZ0",
        "outputId": "ba72b7e8-3dad-42da-f69b-129cba08d563"
      },
      "execution_count": null,
      "outputs": [
        {
          "output_type": "execute_result",
          "data": {
            "text/plain": [
              "array([ 1.62434536e+00, -6.11756414e-01, -5.28171752e-01, -1.07296862e+00,\n",
              "        8.65407629e-01, -2.30153870e+00,  1.74481176e+00, -7.61206901e-01,\n",
              "        3.19039096e-01, -2.49370375e-01,  1.46210794e+00, -2.06014071e+00,\n",
              "       -3.22417204e-01, -3.84054355e-01,  1.13376944e+00, -1.09989127e+00,\n",
              "       -1.72428208e-01, -8.77858418e-01,  4.22137467e-02,  5.82815214e-01,\n",
              "       -1.10061918e+00,  1.14472371e+00,  9.01590721e-01,  5.02494339e-01,\n",
              "        9.00855949e-01, -6.83727859e-01, -1.22890226e-01, -9.35769434e-01,\n",
              "       -2.67888080e-01,  5.30355467e-01, -6.91660752e-01, -3.96753527e-01,\n",
              "       -6.87172700e-01, -8.45205641e-01, -6.71246131e-01, -1.26645989e-02,\n",
              "       -1.11731035e+00,  2.34415698e-01,  1.65980218e+00,  7.42044161e-01,\n",
              "       -1.91835552e-01, -8.87628964e-01, -7.47158294e-01,  1.69245460e+00,\n",
              "        5.08077548e-02, -6.36995647e-01,  1.90915485e-01,  2.10025514e+00,\n",
              "        1.20158952e-01,  6.17203110e-01,  3.00170320e-01, -3.52249846e-01,\n",
              "       -1.14251820e+00, -3.49342722e-01, -2.08894233e-01,  5.86623191e-01,\n",
              "        8.38983414e-01,  9.31102081e-01,  2.85587325e-01,  8.85141164e-01,\n",
              "       -7.54397941e-01,  1.25286816e+00,  5.12929820e-01, -2.98092835e-01,\n",
              "        4.88518147e-01, -7.55717130e-02,  1.13162939e+00,  1.51981682e+00,\n",
              "        2.18557541e+00, -1.39649634e+00, -1.44411381e+00, -5.04465863e-01,\n",
              "        1.60037069e-01,  8.76168921e-01,  3.15634947e-01, -2.02220122e+00,\n",
              "       -3.06204013e-01,  8.27974643e-01,  2.30094735e-01,  7.62011180e-01,\n",
              "       -2.22328143e-01, -2.00758069e-01,  1.86561391e-01,  4.10051647e-01,\n",
              "        1.98299720e-01,  1.19008646e-01, -6.70662286e-01,  3.77563786e-01,\n",
              "        1.21821271e-01,  1.12948391e+00,  1.19891788e+00,  1.85156417e-01,\n",
              "       -3.75284950e-01, -6.38730407e-01,  4.23494354e-01,  7.73400683e-02,\n",
              "       -3.43853676e-01,  4.35968568e-02, -6.20000844e-01,  6.98032034e-01,\n",
              "       -4.47128565e-01,  1.22450770e+00,  4.03491642e-01,  5.93578523e-01,\n",
              "       -1.09491185e+00,  1.69382433e-01,  7.40556451e-01, -9.53700602e-01,\n",
              "       -2.66218506e-01,  3.26145467e-02, -1.37311732e+00,  3.15159392e-01,\n",
              "        8.46160648e-01, -8.59515941e-01,  3.50545979e-01, -1.31228341e+00,\n",
              "       -3.86955093e-02, -1.61577235e+00,  1.12141771e+00,  4.08900538e-01,\n",
              "       -2.46169559e-02, -7.75161619e-01,  1.27375593e+00,  1.96710175e+00,\n",
              "       -1.85798186e+00,  1.23616403e+00,  1.62765075e+00,  3.38011697e-01,\n",
              "       -1.19926803e+00,  8.63345318e-01, -1.80920302e-01, -6.03920628e-01,\n",
              "       -1.23005814e+00,  5.50537496e-01,  7.92806866e-01, -6.23530730e-01,\n",
              "        5.20576337e-01, -1.14434139e+00,  8.01861032e-01,  4.65672984e-02,\n",
              "       -1.86569772e-01, -1.01745873e-01,  8.68886157e-01,  7.50411640e-01,\n",
              "        5.29465324e-01,  1.37701210e-01,  7.78211279e-02,  6.18380262e-01,\n",
              "        2.32494559e-01,  6.82551407e-01, -3.10116774e-01, -2.43483776e+00,\n",
              "        1.03882460e+00,  2.18697965e+00,  4.41364444e-01, -1.00155233e-01,\n",
              "       -1.36444744e-01, -1.19054188e-01,  1.74094083e-02, -1.12201873e+00,\n",
              "       -5.17094458e-01, -9.97026828e-01,  2.48799161e-01, -2.96641152e-01,\n",
              "        4.95211324e-01, -1.74703160e-01,  9.86335188e-01,  2.13533901e-01,\n",
              "        2.19069973e+00, -1.89636092e+00, -6.46916688e-01,  9.01486892e-01,\n",
              "        2.52832571e+00, -2.48634778e-01,  4.36689932e-02, -2.26314243e-01,\n",
              "        1.33145711e+00, -2.87307863e-01,  6.80069840e-01, -3.19801599e-01,\n",
              "       -1.27255876e+00,  3.13547720e-01,  5.03184813e-01,  1.29322588e+00,\n",
              "       -1.10447026e-01, -6.17362064e-01,  5.62761097e-01,  2.40737092e-01,\n",
              "        2.80665077e-01, -7.31127037e-02,  1.16033857e+00,  3.69492716e-01,\n",
              "        1.90465871e+00,  1.11105670e+00,  6.59049796e-01, -1.62743834e+00,\n",
              "        6.02319280e-01,  4.20282204e-01,  8.10951673e-01,  1.04444209e+00,\n",
              "       -4.00878192e-01,  8.24005618e-01, -5.62305431e-01,  1.95487808e+00,\n",
              "       -1.33195167e+00, -1.76068856e+00, -1.65072127e+00, -8.90555584e-01,\n",
              "       -1.11911540e+00,  1.95607890e+00, -3.26499498e-01, -1.34267579e+00,\n",
              "        1.11438298e+00, -5.86523939e-01, -1.23685338e+00,  8.75838928e-01,\n",
              "        6.23362177e-01, -4.34956683e-01,  1.40754000e+00,  1.29101580e-01,\n",
              "        1.61694960e+00,  5.02740882e-01,  1.55880554e+00,  1.09402696e-01,\n",
              "       -1.21974440e+00,  2.44936865e+00, -5.45774168e-01, -1.98837863e-01,\n",
              "       -7.00398505e-01, -2.03394449e-01,  2.42669441e-01,  2.01830179e-01,\n",
              "        6.61020288e-01,  1.79215821e+00, -1.20464572e-01, -1.23312074e+00,\n",
              "       -1.18231813e+00, -6.65754518e-01, -1.67419581e+00,  8.25029824e-01,\n",
              "       -4.98213564e-01, -3.10984978e-01, -1.89148284e-03, -1.39662042e+00,\n",
              "       -8.61316361e-01,  6.74711526e-01,  6.18539131e-01, -4.43171931e-01,\n",
              "        1.81053491e+00, -1.30572692e+00, -3.44987210e-01, -2.30839743e-01,\n",
              "       -2.79308500e+00,  1.93752881e+00,  3.66332015e-01, -1.04458938e+00,\n",
              "        2.05117344e+00,  5.85662000e-01,  4.29526140e-01, -6.06998398e-01,\n",
              "        1.06222724e-01, -1.52568032e+00,  7.95026094e-01, -3.74438319e-01,\n",
              "        1.34048197e-01,  1.20205486e+00,  2.84748111e-01,  2.62467445e-01,\n",
              "        2.76499305e-01, -7.33271604e-01,  8.36004719e-01,  1.54335911e+00,\n",
              "        7.58805660e-01,  8.84908814e-01, -8.77281519e-01, -8.67787223e-01,\n",
              "       -1.44087602e+00,  1.23225307e+00, -2.54179868e-01,  1.39984394e+00,\n",
              "       -7.81911683e-01, -4.37508983e-01,  9.54250872e-02,  9.21450069e-01,\n",
              "        6.07501958e-02,  2.11124755e-01,  1.65275673e-02,  1.77187720e-01,\n",
              "       -1.11647002e+00,  8.09271010e-02, -1.86578994e-01, -5.68244809e-02,\n",
              "        4.92336556e-01, -6.80678141e-01, -8.45080274e-02, -2.97361883e-01,\n",
              "        4.17302005e-01,  7.84770651e-01, -9.55425262e-01,  5.85910431e-01,\n",
              "        2.06578332e+00, -1.47115693e+00, -8.30171895e-01, -8.80577600e-01,\n",
              "       -2.79097722e-01,  1.62284909e+00,  1.33526763e-02, -6.94693595e-01,\n",
              "        6.21803504e-01, -5.99804531e-01,  1.12341216e+00,  3.05267040e-01,\n",
              "        1.38877940e+00, -6.61344243e-01,  3.03085711e+00,  8.24584625e-01,\n",
              "        6.54580153e-01, -5.11884476e-02, -7.25597119e-01, -8.67768678e-01,\n",
              "       -1.35977326e-01, -7.97269785e-01,  2.82675712e-01, -8.26097432e-01,\n",
              "        6.21082701e-01,  9.56121704e-01, -7.05840507e-01,  1.19268607e+00,\n",
              "       -2.37941936e-01,  1.15528789e+00,  4.38166347e-01,  1.12232832e+00,\n",
              "       -9.97019796e-01, -1.06793987e-01,  1.45142926e+00, -6.18036848e-01,\n",
              "       -2.03720123e+00, -1.94258918e+00, -2.50644065e+00, -2.11416392e+00,\n",
              "       -4.11639163e-01,  1.27852808e+00, -4.42229280e-01,  3.23527354e-01,\n",
              "       -1.09991490e-01,  8.54894544e-03, -1.68198840e-01, -1.74180344e-01,\n",
              "        4.61164100e-01, -1.17598267e+00,  1.01012718e+00,  9.20017933e-01,\n",
              "       -1.95057341e-01,  8.05393424e-01, -7.01344426e-01, -5.37223024e-01,\n",
              "        1.56263850e-01, -1.90221025e-01, -4.48738033e-01, -6.72448039e-01,\n",
              "       -5.57494722e-01,  9.39168744e-01, -1.94332341e+00,  3.52494364e-01,\n",
              "       -2.36436952e-01,  7.27813500e-01,  5.15073614e-01, -2.78253447e+00,\n",
              "        5.84646610e-01,  3.24274243e-01,  2.18628366e-02, -4.68673816e-01,\n",
              "        8.53281222e-01, -4.13029310e-01,  1.83471763e+00,  5.64382855e-01,\n",
              "        2.13782807e+00, -7.85533997e-01, -1.75592564e+00,  7.14789597e-01,\n",
              "        8.52704062e-01,  3.53600971e-02, -1.53879325e+00, -4.47895185e-01,\n",
              "        6.17985534e-01, -1.84176326e-01, -1.15985185e-01, -1.75458969e-01,\n",
              "       -9.33914656e-01, -5.33020326e-01, -1.42655542e+00,  1.76795995e+00,\n",
              "       -4.75372875e-01,  4.77610182e-01, -1.02188594e+00,  7.94528240e-01,\n",
              "       -1.87316098e+00,  9.20615118e-01, -3.53679249e-02,  2.11060505e+00,\n",
              "       -1.30653407e+00,  7.63804802e-02,  3.67231814e-01,  1.23289919e+00,\n",
              "       -4.22856961e-01,  8.64644065e-02, -2.14246673e+00, -8.30168864e-01,\n",
              "        4.51615951e-01,  1.10417433e+00, -2.81736269e-01,  2.05635552e+00,\n",
              "        1.76024923e+00, -6.06524918e-02, -2.41350300e+00, -1.77756638e+00,\n",
              "       -7.77858827e-01,  1.11584111e+00,  3.10272288e-01, -2.09424782e+00,\n",
              "       -2.28765829e-01,  1.61336137e+00, -3.74804687e-01, -7.49969617e-01,\n",
              "        2.05462410e+00,  5.34095368e-02, -4.79157099e-01,  3.50167159e-01,\n",
              "        1.71647264e-02, -4.29142278e-01,  1.20845633e+00,  1.11570180e+00,\n",
              "        8.40861558e-01, -1.02887218e-01,  1.14690038e+00, -4.97025792e-02,\n",
              "        4.66643267e-01,  1.03368687e+00,  8.08844360e-01,  1.78975468e+00,\n",
              "        4.51284016e-01, -1.68405999e+00, -1.16017010e+00,  1.35010682e+00,\n",
              "       -3.31283170e-01,  3.86539145e-01, -8.51455657e-01,  1.00088142e+00,\n",
              "       -3.84832249e-01,  1.45810824e+00, -5.32234021e-01,  1.11813340e+00,\n",
              "        6.74396105e-01, -7.22391905e-01,  1.09899633e+00, -9.01634490e-01,\n",
              "       -8.22467189e-01,  7.21711292e-01, -6.25342001e-01, -5.93843067e-01,\n",
              "       -3.43900709e-01, -1.00016919e+00,  1.04499441e+00,  6.08514698e-01,\n",
              "       -6.93286967e-02, -1.08392067e-01,  4.50155513e-01,  1.76533510e+00,\n",
              "        8.70969803e-01, -5.08457134e-01,  7.77419205e-01, -1.18771172e-01,\n",
              "       -1.98998184e-01,  1.86647138e+00, -4.18937898e-01, -4.79184915e-01,\n",
              "       -1.95210529e+00, -1.40232915e+00,  4.51122939e-01, -6.94920901e-01,\n",
              "        5.15413802e-01, -1.11487105e+00, -7.67309826e-01,  6.74570707e-01,\n",
              "        1.46089238e+00,  5.92472801e-01,  1.19783084e+00,  1.70459417e+00,\n",
              "        1.04008915e+00, -9.18440038e-01, -1.05344713e-01,  6.30195671e-01,\n",
              "       -4.14846901e-01,  4.51946037e-01, -1.57915629e+00, -8.28627979e-01,\n",
              "        5.28879746e-01, -2.23708651e+00, -1.10771250e+00, -1.77183179e-02,\n",
              "       -1.71939447e+00,  5.71209961e-02, -7.99547491e-01, -2.91594596e-01,\n",
              "       -2.58982853e-01,  1.89293198e-01, -5.63788735e-01,  8.96864073e-02,\n",
              "       -6.01156801e-01,  5.56073510e-01,  1.69380911e+00,  1.96869779e-01,\n",
              "        1.69869255e-01, -1.16400797e+00,  6.93366226e-01, -7.58067329e-01,\n",
              "       -8.08847196e-01,  5.57439453e-01,  1.81038744e-01,  1.10717545e+00,\n",
              "        1.44287693e+00, -5.39681562e-01,  1.28376990e-01,  1.76041518e+00,\n",
              "        9.66539250e-01,  7.13049050e-01,  1.30620607e+00, -6.04602969e-01,\n",
              "        6.36583409e-01,  1.40925339e+00,  1.62091229e+00, -8.06184817e-01,\n",
              "       -2.51674208e-01,  3.82715174e-01, -2.88997343e-01, -3.91816240e-01,\n",
              "        6.84001328e-01, -3.53409983e-01, -1.78791289e+00,  3.61847316e-01,\n",
              "       -4.24492791e-01, -7.31530982e-01, -1.56573815e+00,  1.01382247e+00,\n",
              "       -2.22711263e+00, -1.69933360e+00, -2.75846063e-01,  1.22895559e+00,\n",
              "        1.30970591e+00, -1.15498263e+00, -1.77632196e-01, -1.51045638e+00,\n",
              "        1.01120706e+00, -1.47656266e+00, -1.43195745e-01,  1.03298378e+00,\n",
              "       -2.22414029e-01,  1.47016034e+00, -8.70008223e-01,  3.69190470e-01,\n",
              "        8.53282186e-01, -1.39711730e-01,  1.38631426e+00,  5.48129585e-01,\n",
              "       -1.63744959e+00,  3.95860270e+00,  6.48643644e-01,  1.07343294e-01,\n",
              "       -1.39881282e+00,  8.17678188e-02, -4.59942831e-01,  6.44353666e-01,\n",
              "        3.71670291e-01,  1.85300949e+00,  1.42251373e-01,  5.13505480e-01,\n",
              "        3.72456852e-01, -1.48489803e-01, -1.83400197e-01,  1.10100020e+00,\n",
              "        7.80027135e-01, -6.29441604e-01, -1.11343610e+00, -6.74100249e-02,\n",
              "        1.16143998e+00, -2.75293863e-02,  1.74643509e+00, -7.75070287e-01,\n",
              "        1.41640538e-01, -2.51630386e+00, -5.95667881e-01, -3.09121319e-01,\n",
              "        5.10937774e-01,  1.71066184e+00,  3.49435894e-02,  1.45391758e+00,\n",
              "        6.61681076e-01,  9.86352180e-01, -4.66154857e-01,  1.38499134e+00,\n",
              "       -1.07296428e+00,  4.95158611e-01, -9.52062101e-01, -5.18145552e-01,\n",
              "       -1.46140360e+00, -5.16347909e-01,  3.51116897e-01, -6.87704631e-02,\n",
              "       -1.34776494e+00,  1.47073986e+00,  3.37220938e-01,  1.00806543e+00,\n",
              "        7.85226920e-01, -6.64867767e-01, -1.94504696e+00, -9.15424368e-01,\n",
              "        1.22515585e+00, -1.05354607e+00,  8.16043684e-01, -6.12406973e-01,\n",
              "        3.93109245e-01, -1.82391985e+00,  1.16707517e+00, -3.96687001e-02,\n",
              "        8.85825799e-01,  1.89861649e-01,  7.98063795e-01, -1.01932039e-01,\n",
              "        7.43356544e-01, -1.50957268e+00, -1.08071069e+00,  7.25474004e-01,\n",
              "       -3.91782562e-02, -2.28754171e-01, -1.79612295e-01,  5.01725109e-01,\n",
              "       -5.93343754e-01,  5.10307597e-01, -9.15791849e-01, -4.07252043e-01,\n",
              "        9.84951672e-01,  1.07125243e+00, -1.09715436e+00,  8.38634747e-01,\n",
              "       -1.03918232e+00,  7.33023232e-01, -1.89881206e+00, -1.11711069e+00,\n",
              "       -5.08972278e-01, -1.66485955e-01,  1.42361443e+00,  9.03999174e-01,\n",
              "        1.57546791e+00,  1.20660790e+00, -2.82863552e-01, -2.66326884e-01,\n",
              "        1.06897162e+00,  4.03714310e-02, -1.56993672e-01, -1.33520272e+00,\n",
              "       -1.06460122e-01, -2.79099641e+00, -4.56117555e-01, -9.79890252e-01,\n",
              "        6.92574348e-01, -4.78672356e-01, -3.29051549e-01,  1.34710546e+00,\n",
              "       -1.04906775e+00,  3.16658895e-01, -1.89526695e+00,  8.97291174e-02,\n",
              "        4.10265745e-01,  8.59870972e-01, -8.98683193e-01,  3.19656942e-01,\n",
              "        3.18154200e-01, -1.92316341e-02,  1.50016279e-01,  4.63534322e-01,\n",
              "        3.97880425e-01, -9.96010889e-01, -1.19586151e+00,  2.50598029e+00,\n",
              "        1.91979229e+00, -1.39169388e+00,  4.50217742e-01,  6.27437083e-01,\n",
              "        7.51337235e-01,  1.40395436e-01, -9.26871939e-01, -1.82420406e-01,\n",
              "       -4.91125138e-01,  1.34373116e-01, -2.68371304e-01, -1.31675626e-01,\n",
              "        1.01855247e+00,  1.23055820e+00, -1.18110317e+00, -4.59930104e-01,\n",
              "       -7.90799954e-01,  1.22372221e+00, -5.93679025e-02,  1.44898940e+00,\n",
              "       -4.77580855e-01,  2.59999942e-02, -1.34869645e+00,  1.30253554e+00,\n",
              "       -3.62612088e-01, -1.48515645e+00, -5.92461285e-01, -2.30490794e+00,\n",
              "       -3.18171727e-02,  1.12487742e-01,  2.88078167e-01,  1.49810818e+00,\n",
              "       -3.00976154e-01,  8.07455917e-01,  3.12238689e-01, -1.93321640e-01,\n",
              "       -2.07680202e+00,  9.47501167e-01, -5.03973949e-01,  1.79558917e-02,\n",
              "       -1.27046078e+00,  2.82995534e-01,  1.08030817e-01,  2.94176190e-02,\n",
              "       -1.34793129e-01,  1.04921829e+00,  9.66220863e-01,  7.25916853e-01,\n",
              "        3.32107876e+00, -6.00225330e-01, -3.79517516e-01, -1.01480369e+00,\n",
              "        4.35986196e-01, -6.87487393e-01, -2.69836174e+00, -1.21333813e+00,\n",
              "        7.22518992e-02,  1.00978733e+00, -1.55694156e+00, -6.12442128e-01,\n",
              "       -1.39351805e-01, -7.28537489e-01,  5.31163793e-01,  4.00084198e-03,\n",
              "        3.21265914e-01, -7.25214926e-01,  1.53653633e+00, -3.75008758e-04,\n",
              "        1.29354962e+00, -4.38997664e-01,  5.90039464e-01, -6.79383783e-01,\n",
              "       -9.50909251e-01, -7.04350332e-01, -4.58666861e-02, -2.18733459e-01,\n",
              "        1.53920701e+00, -1.14870423e+00, -1.09033833e+00,  1.70018815e+00,\n",
              "        6.08783659e-01, -1.88141087e+00,  4.97269099e-01,  2.37332699e-01,\n",
              "       -2.14444405e+00, -3.69562425e-01, -1.74549518e-02,  7.31402517e-01,\n",
              "        9.54495667e-01,  9.57467711e-02,  1.03345080e+00, -1.46273275e-01,\n",
              "       -8.57496825e-01, -9.34181843e-01,  5.42645295e-01, -1.95816909e+00,\n",
              "        6.77807571e-01, -1.10657307e+00, -3.59224096e-01,  5.05381903e-01,\n",
              "        1.21794090e+00, -1.94068096e+00, -8.06178212e-01,  4.90616924e-02,\n",
              "       -5.96086335e-01,  8.61623101e-01, -2.08639057e+00,  3.61801641e-01,\n",
              "        4.25920177e-01,  4.90803971e-02,  1.10223673e+00, -1.22957425e+00,\n",
              "        1.10861676e+00, -7.02920403e-01,  7.25550518e-01, -3.24204219e-01,\n",
              "        8.14343129e-01,  7.80469930e-01, -1.46405357e+00, -1.54491194e-01,\n",
              "       -9.24323185e-02, -2.37875265e-01, -7.55662765e-01,  1.85143789e+00,\n",
              "        2.09096677e-01,  1.55501599e+00, -5.69148654e-01, -1.06179676e+00,\n",
              "        1.32247779e-01, -5.63236604e-01,  2.39014596e+00,  2.45422849e-01,\n",
              "        1.15259914e+00, -2.24235772e-01, -3.26061306e-01, -3.09114176e-02,\n",
              "        3.55717262e-01,  8.49586845e-01, -1.22154015e-01, -6.80851574e-01,\n",
              "       -1.06787658e+00, -7.66793627e-02,  5.72962726e-01,  4.57947076e-01,\n",
              "       -1.78175491e-02, -6.00138799e-01,  1.46765263e-01,  5.71804879e-01,\n",
              "       -3.68176565e-02,  1.12368489e-01, -1.50504326e-01,  9.15499268e-01,\n",
              "       -4.38200267e-01,  1.85535621e-01,  3.94428030e-01,  7.25522558e-01,\n",
              "        1.49588477e+00,  6.75453809e-01,  5.99213235e-01, -1.47023709e+00,\n",
              "        6.06403944e-01,  2.29371761e+00, -8.30010986e-01, -1.01951985e+00,\n",
              "       -2.14653842e-01,  1.02124813e+00,  5.24750492e-01, -4.77124206e-01,\n",
              "       -3.59901817e-02,  1.03703898e+00,  6.72619748e-01,  2.42887697e+00,\n",
              "        1.00568668e+00,  3.53567216e-01,  6.14726276e-01, -3.48984191e-01,\n",
              "       -9.77773002e-01,  1.71957132e-01,  4.90561044e-01, -1.39528303e+00,\n",
              "       -5.22356465e-01, -3.69255902e-01,  2.65642403e-01, -2.60466059e-01,\n",
              "        4.45096710e-01,  9.81122462e-02,  1.06032751e+00, -1.71116766e+00,\n",
              "        1.65712464e+00,  1.41767401e+00,  5.03170861e-02,  6.50323214e-01,\n",
              "        6.06548400e-01, -7.37289628e-01,  1.64665066e-01,  7.78174179e-01,\n",
              "        3.09816759e-01,  1.05132077e+00,  9.49961101e-02,  8.07509886e-02,\n",
              "       -7.67803746e-01, -3.64538050e-01, -4.59717681e-01,  1.70548352e+00,\n",
              "        2.40505552e-01, -9.99426501e-01,  3.98598388e-01, -1.92003697e-01,\n",
              "       -3.05376438e+00,  4.79852371e-01, -1.55269878e+00,  5.78464420e-01,\n",
              "       -9.61263599e-01, -1.45832446e+00,  4.94341651e-01, -1.49419377e+00,\n",
              "       -4.46699203e-01,  2.04377395e-01,  6.12232523e-01,  7.44884536e-01,\n",
              "       -3.62812886e-02, -8.32395348e-01,  1.92381543e+00, -6.05981321e-01,\n",
              "        1.80358898e+00, -4.52524973e-01,  1.16128569e+00,  1.06996554e+00,\n",
              "       -1.04553425e+00,  3.55284507e-01,  7.55392029e-01,  7.00982122e-01,\n",
              "       -1.98937450e-01,  3.01960045e-01, -3.94689681e-01, -1.17181338e+00,\n",
              "        9.84012237e-01, -5.59681422e-01,  1.37975819e+00,  6.02450901e-01,\n",
              "       -8.92646674e-01, -1.61198320e-01, -2.86384915e-01, -8.70887650e-01,\n",
              "        5.01429590e-01, -4.78614074e-01,  1.63169151e+00,  8.60891241e-01,\n",
              "       -8.80189065e-01, -1.90005215e-02, -2.26760192e-01, -1.56450785e+00,\n",
              "        9.31255679e-01,  9.49808815e-01,  9.25501215e-01, -4.56987858e-01,\n",
              "        1.06898597e+00, -2.09752935e-01,  9.35147780e-01,  1.81252782e+00,\n",
              "        1.40109881e-01, -1.41914878e+00, -3.16901197e-01,  6.40985866e-01,\n",
              "        1.21987438e+00, -1.13379204e+00, -1.90548298e-01,  2.33339126e-01,\n",
              "        4.34998324e-01,  9.10423603e-01, -9.48439656e-01, -4.23478297e-01,\n",
              "        1.00796648e+00,  3.92334911e-01,  4.48380651e-01,  1.12532350e+00,\n",
              "        1.04053390e-01,  5.28003422e-01, -3.14563862e-01, -1.34501002e+00,\n",
              "       -1.29525789e+00,  7.43205537e-02, -1.99560718e-01, -6.54603169e-01,\n",
              "        3.18014296e-01, -8.90271552e-01,  1.11337266e-01, -1.95225583e-02,\n",
              "       -8.39988915e-01, -2.29820588e+00,  1.45652739e+00,  3.16637236e-01,\n",
              "       -2.66412594e+00, -4.26428618e-01,  3.93787731e-01, -2.28140691e-01,\n",
              "        5.80330113e-01, -9.73267585e-01,  1.75167729e-01, -5.34836927e-02,\n",
              "       -1.83061987e-01, -2.21028902e-01,  1.99759555e-01,  9.32721414e-01,\n",
              "       -5.30119800e-01, -4.07240024e-01,  1.60564992e-01, -1.20149976e-01,\n",
              "        3.85602292e-01,  7.18290736e-01,  1.29118890e+00, -1.16444148e-01,\n",
              "       -2.27729800e+00, -6.96245395e-02,  3.53870427e-01, -1.86955017e-01])"
            ]
          },
          "metadata": {},
          "execution_count": 4
        }
      ]
    },
    {
      "cell_type": "code",
      "source": [
        "min(normal_data), max(normal_data)"
      ],
      "metadata": {
        "colab": {
          "base_uri": "https://localhost:8080/"
        },
        "id": "HYjXWfvXD2BF",
        "outputId": "b20ba30a-b2fe-49c6-a96f-990c21eccf6b"
      },
      "execution_count": null,
      "outputs": [
        {
          "output_type": "execute_result",
          "data": {
            "text/plain": [
              "(-3.053764380426305, 3.9586027040379634)"
            ]
          },
          "metadata": {},
          "execution_count": 5
        }
      ]
    },
    {
      "cell_type": "code",
      "source": [
        "sns.histplot(normal_data, kde= True);"
      ],
      "metadata": {
        "colab": {
          "base_uri": "https://localhost:8080/",
          "height": 430
        },
        "id": "l7cwiofaEF9V",
        "outputId": "f6db88dc-d34b-4c09-b0b7-5d0bbb6ccf63"
      },
      "execution_count": null,
      "outputs": [
        {
          "output_type": "display_data",
          "data": {
            "text/plain": [
              "<Figure size 640x480 with 1 Axes>"
            ],
            "image/png": "[encoded data removed]"
          },
          "metadata": {}
        }
      ]
    },
    {
      "cell_type": "code",
      "source": [
        "normal_data.mean(), np.median(normal_data), stats.mode(normal_data), np.var(normal_data), np.std(normal_data)"
      ],
      "metadata": {
        "colab": {
          "base_uri": "https://localhost:8080/"
        },
        "id": "Vo5kssewF6ra",
        "outputId": "33c867f6-7641-4f68-a3e5-140626e9b83d"
      },
      "execution_count": null,
      "outputs": [
        {
          "output_type": "execute_result",
          "data": {
            "text/plain": [
              "(0.03881247615960185,\n",
              " 0.04129258886921605,\n",
              " ModeResult(mode=-3.053764380426305, count=1),\n",
              " 0.9623691107920885,\n",
              " 0.9810041339322116)"
            ]
          },
          "metadata": {},
          "execution_count": 7
        }
      ]
    },
    {
      "cell_type": "code",
      "source": [
        "np.sum(((normal_data >= 0.9810041339322116) & (normal_data <= 0.9810041339322116 + 1)))"
      ],
      "metadata": {
        "colab": {
          "base_uri": "https://localhost:8080/"
        },
        "id": "GrnqBlOaGWvL",
        "outputId": "02dabcd3-3fc4-4c15-cc1e-580383b83444"
      },
      "execution_count": null,
      "outputs": [
        {
          "output_type": "execute_result",
          "data": {
            "text/plain": [
              "148"
            ]
          },
          "metadata": {},
          "execution_count": 8
        }
      ]
    },
    {
      "cell_type": "code",
      "source": [
        "np.sum(((normal_data <= 0.9810041339322116) & (normal_data >= 0.9810041339322116 - 1)))"
      ],
      "metadata": {
        "colab": {
          "base_uri": "https://localhost:8080/"
        },
        "id": "1HP18jJoJW4X",
        "outputId": "15a07aee-dafc-47b6-d36a-800122703866"
      },
      "execution_count": null,
      "outputs": [
        {
          "output_type": "execute_result",
          "data": {
            "text/plain": [
              "353"
            ]
          },
          "metadata": {},
          "execution_count": 9
        }
      ]
    },
    {
      "cell_type": "code",
      "source": [
        "(148 + 353) / 1000"
      ],
      "metadata": {
        "colab": {
          "base_uri": "https://localhost:8080/"
        },
        "id": "-5mhLCIVJcwY",
        "outputId": "955051fe-5834-47d4-b842-9abb2c6a9242"
      },
      "execution_count": null,
      "outputs": [
        {
          "output_type": "execute_result",
          "data": {
            "text/plain": [
              "0.501"
            ]
          },
          "metadata": {},
          "execution_count": 10
        }
      ]
    },
    {
      "cell_type": "markdown",
      "source": [
        "# ***GAMA DISTRIBUTION***"
      ],
      "metadata": {
        "id": "zNA-dbDpIQXe"
      }
    },
    {
      "cell_type": "markdown",
      "source": [
        "* Product lifetime analysis\n",
        "* Analysis of driver reaction time with advancing age"
      ],
      "metadata": {
        "id": "RSFsrpQeKXit"
      }
    },
    {
      "cell_type": "code",
      "source": [
        "from scipy.stats import gamma"
      ],
      "metadata": {
        "id": "3pVxJyI-IYBt"
      },
      "execution_count": null,
      "outputs": []
    },
    {
      "cell_type": "code",
      "source": [
        "gamma_data = gamma.rvs(a = 4, size = 1000)"
      ],
      "metadata": {
        "id": "yoEyP1Q6IsEm"
      },
      "execution_count": null,
      "outputs": []
    },
    {
      "cell_type": "code",
      "source": [
        "sns.histplot(gamma_data, kde = True)"
      ],
      "metadata": {
        "colab": {
          "base_uri": "https://localhost:8080/",
          "height": 447
        },
        "id": "4BlSIUWXI26n",
        "outputId": "9c528422-f3a8-46e6-ed81-4bfac90edaf9"
      },
      "execution_count": null,
      "outputs": [
        {
          "output_type": "execute_result",
          "data": {
            "text/plain": [
              "<Axes: ylabel='Count'>"
            ]
          },
          "metadata": {},
          "execution_count": 33
        },
        {
          "output_type": "display_data",
          "data": {
            "text/plain": [
              "<Figure size 640x480 with 1 Axes>"
            ],
            "image/png": "[encoded data removed]"
          },
          "metadata": {}
        }
      ]
    },
    {
      "cell_type": "code",
      "source": [
        "min(gamma_data), max(gamma_data)"
      ],
      "metadata": {
        "colab": {
          "base_uri": "https://localhost:8080/"
        },
        "id": "pe8ET9YFJuue",
        "outputId": "4b8ee717-ddf9-4f29-d9ad-05f8e1dbff79"
      },
      "execution_count": null,
      "outputs": [
        {
          "output_type": "execute_result",
          "data": {
            "text/plain": [
              "(0.44304815329020136, 12.720535144507023)"
            ]
          },
          "metadata": {},
          "execution_count": 34
        }
      ]
    },
    {
      "cell_type": "code",
      "source": [],
      "metadata": {
        "colab": {
          "base_uri": "https://localhost:8080/"
        },
        "id": "OhEEZ__aJypW",
        "outputId": "d7f853ff-1a17-47a6-8520-aef1de0bf22a"
      },
      "execution_count": null,
      "outputs": [
        {
          "output_type": "execute_result",
          "data": {
            "text/plain": [
              "4.707502235641212"
            ]
          },
          "metadata": {},
          "execution_count": 24
        }
      ]
    },
    {
      "cell_type": "markdown",
      "source": [
        "# ***EXPONENCIAL DISTRIBUTION***"
      ],
      "metadata": {
        "id": "rQiVKzFRLFFc"
      }
    },
    {
      "cell_type": "markdown",
      "source": [
        "\n",
        "\n",
        "*   (gamma distribution variation)\n",
        "*   Product lifetime\n",
        "\n"
      ],
      "metadata": {
        "id": "5RLdfEtIL1dF"
      }
    },
    {
      "cell_type": "code",
      "source": [
        "from scipy.stats import expon"
      ],
      "metadata": {
        "id": "w9a-EJwiLKPE"
      },
      "execution_count": null,
      "outputs": []
    },
    {
      "cell_type": "code",
      "source": [
        "expon_data = expon.rvs(size = 1000)"
      ],
      "metadata": {
        "id": "B1jRpT70MFPK"
      },
      "execution_count": null,
      "outputs": []
    },
    {
      "cell_type": "code",
      "source": [
        "sns.histplot(expon_data, kde = True)"
      ],
      "metadata": {
        "colab": {
          "base_uri": "https://localhost:8080/",
          "height": 449
        },
        "id": "zxVU1zckMX67",
        "outputId": "aa6ea52a-1698-4163-a839-42c27f5d70ff"
      },
      "execution_count": null,
      "outputs": [
        {
          "output_type": "execute_result",
          "data": {
            "text/plain": [
              "<Axes: ylabel='Count'>"
            ]
          },
          "metadata": {},
          "execution_count": 40
        },
        {
          "output_type": "display_data",
          "data": {
            "text/plain": [
              "<Figure size 640x480 with 1 Axes>"
            ],
            "image/png": "[encoded data removed]"
          },
          "metadata": {}
        }
      ]
    },
    {
      "cell_type": "code",
      "source": [
        "min(expon_data), max(expon_data)"
      ],
      "metadata": {
        "colab": {
          "base_uri": "https://localhost:8080/"
        },
        "id": "-b_PT3O2M88y",
        "outputId": "3715b8a6-2618-4551-9d8d-8ffce8e8f304"
      },
      "execution_count": null,
      "outputs": [
        {
          "output_type": "execute_result",
          "data": {
            "text/plain": [
              "(0.0013084142950048484, 7.149492399893385)"
            ]
          },
          "metadata": {},
          "execution_count": 41
        }
      ]
    },
    {
      "cell_type": "markdown",
      "source": [
        "# ***UNIFORM DISTRIBUTION***"
      ],
      "metadata": {
        "id": "QCFFszqYNfPj"
      }
    },
    {
      "cell_type": "markdown",
      "source": [
        "\n",
        "\n",
        "*   The numbers have the same probability\n",
        "\n",
        "*   Random number generation\n",
        "\n",
        "\n"
      ],
      "metadata": {
        "id": "Z6b9U3LCNqij"
      }
    },
    {
      "cell_type": "code",
      "source": [
        "from scipy.stats import uniform"
      ],
      "metadata": {
        "id": "jN5_dvF_N4Tz"
      },
      "execution_count": null,
      "outputs": []
    },
    {
      "cell_type": "code",
      "source": [
        "uniform_data = uniform.rvs(size = 1000)"
      ],
      "metadata": {
        "id": "4uNDFgJRN9IB"
      },
      "execution_count": null,
      "outputs": []
    },
    {
      "cell_type": "code",
      "source": [
        "sns.histplot(uniform_data, kde = True)"
      ],
      "metadata": {
        "colab": {
          "base_uri": "https://localhost:8080/",
          "height": 447
        },
        "id": "H5gBnoqDOF4S",
        "outputId": "78e425b7-91d5-44fa-f3d0-d9b34a9b2c47"
      },
      "execution_count": null,
      "outputs": [
        {
          "output_type": "execute_result",
          "data": {
            "text/plain": [
              "<Axes: ylabel='Count'>"
            ]
          },
          "metadata": {},
          "execution_count": 50
        },
        {
          "output_type": "display_data",
          "data": {
            "text/plain": [
              "<Figure size 640x480 with 1 Axes>"
            ],
            "image/png": "[encoded data removed]"
          },
          "metadata": {}
        }
      ]
    },
    {
      "cell_type": "code",
      "source": [
        "min(uniform_data), max(uniform_data)"
      ],
      "metadata": {
        "colab": {
          "base_uri": "https://localhost:8080/"
        },
        "id": "swh9sFNWORLz",
        "outputId": "92645629-9610-4783-d83d-329a627b8a33"
      },
      "execution_count": null,
      "outputs": [
        {
          "output_type": "execute_result",
          "data": {
            "text/plain": [
              "(0.0017919195500906149, 0.9998567977158284)"
            ]
          },
          "metadata": {},
          "execution_count": 51
        }
      ]
    },
    {
      "cell_type": "code",
      "source": [
        "np.unique(uniform_data, return_counts = True)"
      ],
      "metadata": {
        "colab": {
          "base_uri": "https://localhost:8080/"
        },
        "id": "nbRb39CtOda6",
        "outputId": "9242ba75-6ae2-402d-a836-3b26be30467f"
      },
      "execution_count": null,
      "outputs": [
        {
          "output_type": "execute_result",
          "data": {
            "text/plain": [
              "(array([0.00179192, 0.00210296, 0.00299399, 0.00635019, 0.00750819,\n",
              "        0.00907377, 0.01070365, 0.01087948, 0.01120616, 0.0113331 ,\n",
              "        0.01144145, 0.01238744, 0.01310961, 0.01351704, 0.01367849,\n",
              "        0.01442429, 0.01496712, 0.01568631, 0.0161113 , 0.01633859,\n",
              "        0.01677417, 0.01806952, 0.02058083, 0.02073902, 0.02235032,\n",
              "        0.02290126, 0.02625762, 0.02660445, 0.02707449, 0.02836306,\n",
              "        0.02975359, 0.0306318 , 0.03086324, 0.03182284, 0.03250575,\n",
              "        0.03262164, 0.03285893, 0.03316875, 0.03466635, 0.03542846,\n",
              "        0.03770399, 0.03804828, 0.03998444, 0.03999143, 0.0402172 ,\n",
              "        0.04419189, 0.04487671, 0.04516301, 0.04696183, 0.04806762,\n",
              "        0.04826735, 0.04873392, 0.05240103, 0.05254135, 0.05266785,\n",
              "        0.05385482, 0.05463733, 0.05523913, 0.05526343, 0.05528659,\n",
              "        0.05687006, 0.05763   , 0.05778774, 0.05880138, 0.05887943,\n",
              "        0.05909158, 0.05944686, 0.05976175, 0.06062931, 0.06189131,\n",
              "        0.06444881, 0.06481592, 0.06568118, 0.06573563, 0.06673828,\n",
              "        0.06771189, 0.06946709, 0.07002747, 0.07004216, 0.07008287,\n",
              "        0.07566112, 0.07579851, 0.07653505, 0.07703316, 0.07946052,\n",
              "        0.07983935, 0.08041764, 0.08189631, 0.08225954, 0.08230811,\n",
              "        0.08319452, 0.08408636, 0.08489389, 0.08631851, 0.08750655,\n",
              "        0.08842482, 0.08867797, 0.08874808, 0.09085381, 0.09197906,\n",
              "        0.0924429 , 0.09401476, 0.09629719, 0.0973851 , 0.09794426,\n",
              "        0.09874611, 0.09984741, 0.10190401, 0.10230702, 0.10244132,\n",
              "        0.10340609, 0.10585971, 0.10623555, 0.10665694, 0.10775858,\n",
              "        0.10829636, 0.10973255, 0.11031761, 0.11040699, 0.11225686,\n",
              "        0.11287093, 0.11366404, 0.11415509, 0.11501456, 0.11575575,\n",
              "        0.11694915, 0.11789316, 0.11829784, 0.12004642, 0.12101494,\n",
              "        0.12105244, 0.12196431, 0.12321592, 0.12346452, 0.12496099,\n",
              "        0.12547668, 0.12579654, 0.12705695, 0.12796699, 0.12852121,\n",
              "        0.13064307, 0.13327069, 0.13378247, 0.13458641, 0.13459711,\n",
              "        0.1347088 , 0.13577889, 0.13670507, 0.13786473, 0.13925718,\n",
              "        0.1395267 , 0.1400234 , 0.14079221, 0.14288872, 0.14297142,\n",
              "        0.1437312 , 0.14385141, 0.14456795, 0.1452639 , 0.14673211,\n",
              "        0.14753338, 0.14888281, 0.14919444, 0.14979955, 0.15012809,\n",
              "        0.15218757, 0.15290719, 0.15349163, 0.15387653, 0.15510509,\n",
              "        0.15613695, 0.15618501, 0.15648485, 0.15666823, 0.15668409,\n",
              "        0.15735854, 0.15863911, 0.16115294, 0.16467663, 0.1681198 ,\n",
              "        0.16903828, 0.16959603, 0.17090823, 0.17238079, 0.17295031,\n",
              "        0.17535717, 0.17685502, 0.17698816, 0.17935395, 0.18033568,\n",
              "        0.18087442, 0.18556084, 0.18570961, 0.18728099, 0.18760506,\n",
              "        0.18859376, 0.19029964, 0.19138148, 0.19311799, 0.19339765,\n",
              "        0.1964961 , 0.19792783, 0.19916329, 0.19949832, 0.1995541 ,\n",
              "        0.1996561 , 0.20368741, 0.2068127 , 0.20735849, 0.21008466,\n",
              "        0.21089425, 0.21184119, 0.21208906, 0.2121463 , 0.2135648 ,\n",
              "        0.21407109, 0.21460104, 0.21600915, 0.21649933, 0.21876408,\n",
              "        0.21948471, 0.21958789, 0.21967628, 0.2206756 , 0.22124463,\n",
              "        0.22133951, 0.22166149, 0.22199174, 0.2221124 , 0.22383375,\n",
              "        0.22409478, 0.2252536 , 0.2254991 , 0.2269701 , 0.22740472,\n",
              "        0.22776221, 0.23055811, 0.23179801, 0.23210482, 0.23502879,\n",
              "        0.23508975, 0.23543025, 0.23633744, 0.23753591, 0.23928175,\n",
              "        0.23987352, 0.24001462, 0.24125381, 0.24394145, 0.24431326,\n",
              "        0.24624796, 0.24673894, 0.24802215, 0.24967068, 0.25077193,\n",
              "        0.25162345, 0.25262264, 0.25313912, 0.2532177 , 0.25383188,\n",
              "        0.25436578, 0.25802225, 0.2583388 , 0.25922719, 0.25950201,\n",
              "        0.25980115, 0.261138  , 0.26120094, 0.26138613, 0.26321288,\n",
              "        0.26457092, 0.26594807, 0.26606341, 0.2661501 , 0.26705241,\n",
              "        0.26911244, 0.26923316, 0.2698395 , 0.27123915, 0.27132735,\n",
              "        0.27151624, 0.27336987, 0.27452471, 0.2746205 , 0.27705134,\n",
              "        0.2779575 , 0.27796947, 0.27919195, 0.27952943, 0.28293462,\n",
              "        0.28330772, 0.28415569, 0.28483916, 0.28516171, 0.28576868,\n",
              "        0.28618942, 0.28665206, 0.28706921, 0.28775644, 0.2885736 ,\n",
              "        0.29316899, 0.29395235, 0.29503185, 0.29558173, 0.29806612,\n",
              "        0.30021052, 0.30037591, 0.30356156, 0.30552881, 0.30642392,\n",
              "        0.3067199 , 0.30685702, 0.3072593 , 0.30747393, 0.30909686,\n",
              "        0.30926847, 0.30946341, 0.31091195, 0.31246333, 0.31262834,\n",
              "        0.3130408 , 0.31489865, 0.31608641, 0.31684876, 0.31757427,\n",
              "        0.31888805, 0.31896842, 0.320312  , 0.32119526, 0.3217843 ,\n",
              "        0.32267571, 0.3231117 , 0.32312476, 0.32385271, 0.32399595,\n",
              "        0.32400412, 0.324456  , 0.32477842, 0.32709979, 0.32715162,\n",
              "        0.32731634, 0.3273252 , 0.32833485, 0.33216247, 0.33262535,\n",
              "        0.3362701 , 0.33640727, 0.33809215, 0.33892343, 0.34112409,\n",
              "        0.34162428, 0.34238252, 0.34304535, 0.34351776, 0.34413311,\n",
              "        0.34601798, 0.34699677, 0.34752748, 0.34753539, 0.34776007,\n",
              "        0.34798387, 0.34829912, 0.34889385, 0.35113429, 0.35246215,\n",
              "        0.35772277, 0.35995892, 0.36319936, 0.36364666, 0.36390334,\n",
              "        0.36695782, 0.36737663, 0.36804397, 0.36842024, 0.36898219,\n",
              "        0.36934056, 0.36952311, 0.3702275 , 0.37022942, 0.37147074,\n",
              "        0.37426857, 0.3743835 , 0.37566759, 0.37626633, 0.37777702,\n",
              "        0.37843775, 0.37848771, 0.37902432, 0.38092386, 0.38160137,\n",
              "        0.38166864, 0.38270107, 0.38286221, 0.38595856, 0.38729883,\n",
              "        0.38921157, 0.39460122, 0.39541678, 0.39883218, 0.40211668,\n",
              "        0.40299784, 0.40352917, 0.40456108, 0.40591893, 0.4072827 ,\n",
              "        0.408385  , 0.41096099, 0.41217519, 0.41339796, 0.41462855,\n",
              "        0.41557936, 0.4158271 , 0.41592196, 0.41593799, 0.41760171,\n",
              "        0.41817897, 0.41871131, 0.41940201, 0.42025321, 0.42338915,\n",
              "        0.42440365, 0.42452837, 0.42512829, 0.42620531, 0.42705083,\n",
              "        0.42934828, 0.43105868, 0.43154419, 0.43207135, 0.43232808,\n",
              "        0.4333736 , 0.43381339, 0.43403683, 0.43407132, 0.43490792,\n",
              "        0.43637824, 0.43765118, 0.43793781, 0.4385501 , 0.43985428,\n",
              "        0.44152079, 0.44160498, 0.44207031, 0.44283421, 0.44303107,\n",
              "        0.44334462, 0.44391906, 0.44422145, 0.44554724, 0.45040907,\n",
              "        0.45058032, 0.45297072, 0.45349385, 0.45373862, 0.45408828,\n",
              "        0.45488389, 0.4559878 , 0.45651831, 0.45756315, 0.45766998,\n",
              "        0.4586379 , 0.46188845, 0.46228701, 0.46262191, 0.46347385,\n",
              "        0.4644154 , 0.46461729, 0.46481263, 0.46527687, 0.46585125,\n",
              "        0.46617402, 0.46674781, 0.46712186, 0.46739718, 0.46766378,\n",
              "        0.46795491, 0.46973278, 0.46983352, 0.47123708, 0.47225175,\n",
              "        0.47254293, 0.47267545, 0.47341097, 0.47616276, 0.47635879,\n",
              "        0.47786939, 0.48007902, 0.48181878, 0.48193119, 0.48230615,\n",
              "        0.48301684, 0.48408733, 0.48414287, 0.49180138, 0.49497985,\n",
              "        0.49559727, 0.49568467, 0.49637624, 0.49746221, 0.49770325,\n",
              "        0.49833222, 0.50072693, 0.50129331, 0.50161327, 0.5047854 ,\n",
              "        0.50731427, 0.50867879, 0.50965796, 0.50989559, 0.50999695,\n",
              "        0.51113344, 0.51151232, 0.51156969, 0.51198462, 0.51406147,\n",
              "        0.51499833, 0.51540383, 0.51577804, 0.51854833, 0.52112667,\n",
              "        0.52364911, 0.523939  , 0.52447634, 0.52502501, 0.52577295,\n",
              "        0.52617075, 0.52621811, 0.52648049, 0.52683966, 0.52716109,\n",
              "        0.52742036, 0.52826941, 0.52866705, 0.52922728, 0.53115115,\n",
              "        0.53163506, 0.53232933, 0.53426084, 0.53760768, 0.538869  ,\n",
              "        0.53921814, 0.54022309, 0.54065451, 0.54130762, 0.54188051,\n",
              "        0.5419022 , 0.54244605, 0.54244805, 0.54278985, 0.54372075,\n",
              "        0.54387672, 0.54400229, 0.54438944, 0.54748875, 0.54775808,\n",
              "        0.54901178, 0.54940523, 0.5509161 , 0.55127676, 0.55182573,\n",
              "        0.55265274, 0.55271604, 0.55492643, 0.55620875, 0.55656376,\n",
              "        0.55940554, 0.56005954, 0.56014252, 0.56145647, 0.56546093,\n",
              "        0.5657803 , 0.56649973, 0.56699134, 0.56958955, 0.57009092,\n",
              "        0.57032283, 0.5715405 , 0.57350919, 0.5736797 , 0.57441401,\n",
              "        0.57488889, 0.57492776, 0.57719713, 0.57721496, 0.57840918,\n",
              "        0.57959122, 0.58510353, 0.58546027, 0.58668428, 0.58816173,\n",
              "        0.58829525, 0.58932807, 0.59153757, 0.59317669, 0.59425329,\n",
              "        0.59471638, 0.59562289, 0.59572597, 0.5964631 , 0.59849344,\n",
              "        0.59945593, 0.60078933, 0.60106268, 0.60206033, 0.60264619,\n",
              "        0.60280649, 0.60348935, 0.60356448, 0.60442769, 0.60494521,\n",
              "        0.60590033, 0.60857017, 0.61009602, 0.61106218, 0.61109058,\n",
              "        0.61216463, 0.6132432 , 0.61435722, 0.61558586, 0.6161952 ,\n",
              "        0.61627443, 0.61694304, 0.61871777, 0.61942071, 0.6197702 ,\n",
              "        0.62018514, 0.62028111, 0.62038324, 0.62059787, 0.62076283,\n",
              "        0.62100903, 0.62223483, 0.62268559, 0.62273569, 0.62559101,\n",
              "        0.62599013, 0.6269585 , 0.62858572, 0.62890263, 0.63026011,\n",
              "        0.63187259, 0.63404271, 0.63420198, 0.63434561, 0.63579569,\n",
              "        0.63588108, 0.63637011, 0.63736427, 0.63746069, 0.63759567,\n",
              "        0.63989035, 0.64042465, 0.64084263, 0.6409746 , 0.64252675,\n",
              "        0.64496587, 0.64525745, 0.64956412, 0.65001284, 0.6500162 ,\n",
              "        0.65078916, 0.6512697 , 0.65127559, 0.65140707, 0.6525057 ,\n",
              "        0.65410652, 0.65488153, 0.65590538, 0.65769291, 0.65832161,\n",
              "        0.6586529 , 0.65906398, 0.66106527, 0.66132707, 0.66165888,\n",
              "        0.66254806, 0.66260287, 0.66359139, 0.66390059, 0.66508963,\n",
              "        0.66717553, 0.66799501, 0.66939204, 0.67044236, 0.67184408,\n",
              "        0.67345185, 0.67381891, 0.67430797, 0.67627983, 0.67645524,\n",
              "        0.67736553, 0.67977668, 0.68095636, 0.68105436, 0.68154856,\n",
              "        0.68234485, 0.68325368, 0.6849254 , 0.68599775, 0.68733012,\n",
              "        0.6891422 , 0.69072633, 0.69184035, 0.69205424, 0.6924009 ,\n",
              "        0.6930644 , 0.69310178, 0.69350391, 0.69468329, 0.69498351,\n",
              "        0.695927  , 0.69648901, 0.69717174, 0.69840726, 0.69880897,\n",
              "        0.6994907 , 0.70001922, 0.70017632, 0.70037696, 0.70152801,\n",
              "        0.70202597, 0.70345394, 0.70409091, 0.70573254, 0.70789868,\n",
              "        0.70844959, 0.70909589, 0.70982139, 0.71030979, 0.71165336,\n",
              "        0.71248517, 0.7154274 , 0.71565214, 0.71660797, 0.72023339,\n",
              "        0.72104361, 0.7220094 , 0.72519964, 0.72546377, 0.72601491,\n",
              "        0.73112286, 0.73165203, 0.73242051, 0.73556129, 0.73629617,\n",
              "        0.73669119, 0.74075385, 0.74203802, 0.74457653, 0.74588644,\n",
              "        0.74624968, 0.74631097, 0.7466357 , 0.74813333, 0.74837854,\n",
              "        0.74902604, 0.75138691, 0.75195927, 0.75354862, 0.75419953,\n",
              "        0.75420812, 0.75499564, 0.75608805, 0.7571046 , 0.75876752,\n",
              "        0.7591504 , 0.76023081, 0.76033386, 0.76143148, 0.76222946,\n",
              "        0.76241145, 0.76315054, 0.76408669, 0.76485439, 0.76575363,\n",
              "        0.76614618, 0.76736075, 0.76841704, 0.76915374, 0.769257  ,\n",
              "        0.77054844, 0.77189487, 0.77620425, 0.77827307, 0.77845317,\n",
              "        0.78041058, 0.78055128, 0.78064991, 0.78070502, 0.78152223,\n",
              "        0.78274884, 0.7837254 , 0.78471353, 0.78582007, 0.78596177,\n",
              "        0.78643161, 0.78792304, 0.78799   , 0.78995576, 0.79143821,\n",
              "        0.79225843, 0.79265642, 0.79279729, 0.79380649, 0.79448157,\n",
              "        0.79650951, 0.7971052 , 0.79718805, 0.7971961 , 0.79822657,\n",
              "        0.79905953, 0.79925772, 0.79954784, 0.80062897, 0.8032108 ,\n",
              "        0.80399081, 0.80484417, 0.80669375, 0.80678905, 0.80717169,\n",
              "        0.80777269, 0.80894031, 0.80968213, 0.81026185, 0.81110715,\n",
              "        0.81305226, 0.81435014, 0.81480001, 0.81554089, 0.81567656,\n",
              "        0.8174864 , 0.81767714, 0.81770656, 0.8178615 , 0.82033274,\n",
              "        0.82103087, 0.82147707, 0.82190946, 0.82241971, 0.82537441,\n",
              "        0.82635952, 0.82636177, 0.82659681, 0.82827055, 0.8283515 ,\n",
              "        0.8292663 , 0.82989131, 0.8304749 , 0.83335952, 0.83393768,\n",
              "        0.83446726, 0.83474059, 0.83581221, 0.83681114, 0.84081696,\n",
              "        0.84333174, 0.84360107, 0.8439802 , 0.84469234, 0.84542231,\n",
              "        0.84558742, 0.84957591, 0.85147692, 0.85298062, 0.85376209,\n",
              "        0.85615028, 0.85699798, 0.85792738, 0.85818998, 0.85927878,\n",
              "        0.86015608, 0.86016439, 0.8606671 , 0.86092472, 0.86105011,\n",
              "        0.8616484 , 0.86366829, 0.86385423, 0.86467105, 0.86539066,\n",
              "        0.86559208, 0.86564541, 0.86572672, 0.86622014, 0.866288  ,\n",
              "        0.86757657, 0.86872857, 0.86916728, 0.86953736, 0.86968884,\n",
              "        0.87011793, 0.87522072, 0.87674319, 0.87761542, 0.8778171 ,\n",
              "        0.87842234, 0.88075396, 0.88244379, 0.88319852, 0.88390063,\n",
              "        0.88399659, 0.88549707, 0.88855744, 0.8886681 , 0.88884797,\n",
              "        0.89212126, 0.8926919 , 0.89281033, 0.89377948, 0.89469439,\n",
              "        0.8953728 , 0.89705905, 0.89840264, 0.89892346, 0.89980162,\n",
              "        0.90279718, 0.90458302, 0.90702358, 0.90772225, 0.90859499,\n",
              "        0.90892422, 0.90963488, 0.91038124, 0.91049551, 0.91133707,\n",
              "        0.91237512, 0.91296894, 0.91314709, 0.91413295, 0.91500942,\n",
              "        0.91607901, 0.91712111, 0.91888069, 0.91957836, 0.91993805,\n",
              "        0.92001377, 0.92054666, 0.92138848, 0.92255162, 0.92286857,\n",
              "        0.92540791, 0.92707091, 0.92730854, 0.9285738 , 0.92889106,\n",
              "        0.9326361 , 0.93313317, 0.9376041 , 0.93835831, 0.93885257,\n",
              "        0.94038756, 0.94546532, 0.94707517, 0.94759463, 0.94767487,\n",
              "        0.94781504, 0.95394709, 0.95443044, 0.95448621, 0.95511207,\n",
              "        0.95572958, 0.95764876, 0.95790931, 0.95988555, 0.96059295,\n",
              "        0.96128157, 0.96130798, 0.96306601, 0.96326582, 0.964182  ,\n",
              "        0.96452995, 0.96544701, 0.9682559 , 0.97018769, 0.97283363,\n",
              "        0.97323235, 0.97387388, 0.9743195 , 0.97553296, 0.97598755,\n",
              "        0.97657976, 0.97920735, 0.98083738, 0.98136714, 0.98195804,\n",
              "        0.98308073, 0.98377129, 0.98640914, 0.98793992, 0.98883281,\n",
              "        0.99216826, 0.99279676, 0.99293005, 0.99322322, 0.99410899,\n",
              "        0.99447083, 0.99527808, 0.99640176, 0.99846178, 0.9998568 ]),\n",
              " array([1, 1, 1, 1, 1, 1, 1, 1, 1, 1, 1, 1, 1, 1, 1, 1, 1, 1, 1, 1, 1, 1,\n",
              "        1, 1, 1, 1, 1, 1, 1, 1, 1, 1, 1, 1, 1, 1, 1, 1, 1, 1, 1, 1, 1, 1,\n",
              "        1, 1, 1, 1, 1, 1, 1, 1, 1, 1, 1, 1, 1, 1, 1, 1, 1, 1, 1, 1, 1, 1,\n",
              "        1, 1, 1, 1, 1, 1, 1, 1, 1, 1, 1, 1, 1, 1, 1, 1, 1, 1, 1, 1, 1, 1,\n",
              "        1, 1, 1, 1, 1, 1, 1, 1, 1, 1, 1, 1, 1, 1, 1, 1, 1, 1, 1, 1, 1, 1,\n",
              "        1, 1, 1, 1, 1, 1, 1, 1, 1, 1, 1, 1, 1, 1, 1, 1, 1, 1, 1, 1, 1, 1,\n",
              "        1, 1, 1, 1, 1, 1, 1, 1, 1, 1, 1, 1, 1, 1, 1, 1, 1, 1, 1, 1, 1, 1,\n",
              "        1, 1, 1, 1, 1, 1, 1, 1, 1, 1, 1, 1, 1, 1, 1, 1, 1, 1, 1, 1, 1, 1,\n",
              "        1, 1, 1, 1, 1, 1, 1, 1, 1, 1, 1, 1, 1, 1, 1, 1, 1, 1, 1, 1, 1, 1,\n",
              "        1, 1, 1, 1, 1, 1, 1, 1, 1, 1, 1, 1, 1, 1, 1, 1, 1, 1, 1, 1, 1, 1,\n",
              "        1, 1, 1, 1, 1, 1, 1, 1, 1, 1, 1, 1, 1, 1, 1, 1, 1, 1, 1, 1, 1, 1,\n",
              "        1, 1, 1, 1, 1, 1, 1, 1, 1, 1, 1, 1, 1, 1, 1, 1, 1, 1, 1, 1, 1, 1,\n",
              "        1, 1, 1, 1, 1, 1, 1, 1, 1, 1, 1, 1, 1, 1, 1, 1, 1, 1, 1, 1, 1, 1,\n",
              "        1, 1, 1, 1, 1, 1, 1, 1, 1, 1, 1, 1, 1, 1, 1, 1, 1, 1, 1, 1, 1, 1,\n",
              "        1, 1, 1, 1, 1, 1, 1, 1, 1, 1, 1, 1, 1, 1, 1, 1, 1, 1, 1, 1, 1, 1,\n",
              "        1, 1, 1, 1, 1, 1, 1, 1, 1, 1, 1, 1, 1, 1, 1, 1, 1, 1, 1, 1, 1, 1,\n",
              "        1, 1, 1, 1, 1, 1, 1, 1, 1, 1, 1, 1, 1, 1, 1, 1, 1, 1, 1, 1, 1, 1,\n",
              "        1, 1, 1, 1, 1, 1, 1, 1, 1, 1, 1, 1, 1, 1, 1, 1, 1, 1, 1, 1, 1, 1,\n",
              "        1, 1, 1, 1, 1, 1, 1, 1, 1, 1, 1, 1, 1, 1, 1, 1, 1, 1, 1, 1, 1, 1,\n",
              "        1, 1, 1, 1, 1, 1, 1, 1, 1, 1, 1, 1, 1, 1, 1, 1, 1, 1, 1, 1, 1, 1,\n",
              "        1, 1, 1, 1, 1, 1, 1, 1, 1, 1, 1, 1, 1, 1, 1, 1, 1, 1, 1, 1, 1, 1,\n",
              "        1, 1, 1, 1, 1, 1, 1, 1, 1, 1, 1, 1, 1, 1, 1, 1, 1, 1, 1, 1, 1, 1,\n",
              "        1, 1, 1, 1, 1, 1, 1, 1, 1, 1, 1, 1, 1, 1, 1, 1, 1, 1, 1, 1, 1, 1,\n",
              "        1, 1, 1, 1, 1, 1, 1, 1, 1, 1, 1, 1, 1, 1, 1, 1, 1, 1, 1, 1, 1, 1,\n",
              "        1, 1, 1, 1, 1, 1, 1, 1, 1, 1, 1, 1, 1, 1, 1, 1, 1, 1, 1, 1, 1, 1,\n",
              "        1, 1, 1, 1, 1, 1, 1, 1, 1, 1, 1, 1, 1, 1, 1, 1, 1, 1, 1, 1, 1, 1,\n",
              "        1, 1, 1, 1, 1, 1, 1, 1, 1, 1, 1, 1, 1, 1, 1, 1, 1, 1, 1, 1, 1, 1,\n",
              "        1, 1, 1, 1, 1, 1, 1, 1, 1, 1, 1, 1, 1, 1, 1, 1, 1, 1, 1, 1, 1, 1,\n",
              "        1, 1, 1, 1, 1, 1, 1, 1, 1, 1, 1, 1, 1, 1, 1, 1, 1, 1, 1, 1, 1, 1,\n",
              "        1, 1, 1, 1, 1, 1, 1, 1, 1, 1, 1, 1, 1, 1, 1, 1, 1, 1, 1, 1, 1, 1,\n",
              "        1, 1, 1, 1, 1, 1, 1, 1, 1, 1, 1, 1, 1, 1, 1, 1, 1, 1, 1, 1, 1, 1,\n",
              "        1, 1, 1, 1, 1, 1, 1, 1, 1, 1, 1, 1, 1, 1, 1, 1, 1, 1, 1, 1, 1, 1,\n",
              "        1, 1, 1, 1, 1, 1, 1, 1, 1, 1, 1, 1, 1, 1, 1, 1, 1, 1, 1, 1, 1, 1,\n",
              "        1, 1, 1, 1, 1, 1, 1, 1, 1, 1, 1, 1, 1, 1, 1, 1, 1, 1, 1, 1, 1, 1,\n",
              "        1, 1, 1, 1, 1, 1, 1, 1, 1, 1, 1, 1, 1, 1, 1, 1, 1, 1, 1, 1, 1, 1,\n",
              "        1, 1, 1, 1, 1, 1, 1, 1, 1, 1, 1, 1, 1, 1, 1, 1, 1, 1, 1, 1, 1, 1,\n",
              "        1, 1, 1, 1, 1, 1, 1, 1, 1, 1, 1, 1, 1, 1, 1, 1, 1, 1, 1, 1, 1, 1,\n",
              "        1, 1, 1, 1, 1, 1, 1, 1, 1, 1, 1, 1, 1, 1, 1, 1, 1, 1, 1, 1, 1, 1,\n",
              "        1, 1, 1, 1, 1, 1, 1, 1, 1, 1, 1, 1, 1, 1, 1, 1, 1, 1, 1, 1, 1, 1,\n",
              "        1, 1, 1, 1, 1, 1, 1, 1, 1, 1, 1, 1, 1, 1, 1, 1, 1, 1, 1, 1, 1, 1,\n",
              "        1, 1, 1, 1, 1, 1, 1, 1, 1, 1, 1, 1, 1, 1, 1, 1, 1, 1, 1, 1, 1, 1,\n",
              "        1, 1, 1, 1, 1, 1, 1, 1, 1, 1, 1, 1, 1, 1, 1, 1, 1, 1, 1, 1, 1, 1,\n",
              "        1, 1, 1, 1, 1, 1, 1, 1, 1, 1, 1, 1, 1, 1, 1, 1, 1, 1, 1, 1, 1, 1,\n",
              "        1, 1, 1, 1, 1, 1, 1, 1, 1, 1, 1, 1, 1, 1, 1, 1, 1, 1, 1, 1, 1, 1,\n",
              "        1, 1, 1, 1, 1, 1, 1, 1, 1, 1, 1, 1, 1, 1, 1, 1, 1, 1, 1, 1, 1, 1,\n",
              "        1, 1, 1, 1, 1, 1, 1, 1, 1, 1]))"
            ]
          },
          "metadata": {},
          "execution_count": 53
        }
      ]
    },
    {
      "cell_type": "markdown",
      "source": [
        "# ***BINOMIAL DISTRIBUTION***"
      ],
      "metadata": {
        "id": "LdHOW_uNWXqC"
      }
    },
    {
      "cell_type": "markdown",
      "source": [
        "\n",
        "\n",
        "*   Probability of success or failure\n",
        "*   Only two possibilities(Sucesso or Failure)\n",
        "\n"
      ],
      "metadata": {
        "id": "pg6y5Yh6Whcf"
      }
    },
    {
      "cell_type": "code",
      "source": [
        "from scipy.stats import binom"
      ],
      "metadata": {
        "id": "SWjTxJozWyQ1"
      },
      "execution_count": null,
      "outputs": []
    },
    {
      "cell_type": "code",
      "source": [
        "binom_data = binom.rvs(size = 1000, n = 10, p = 0.1)"
      ],
      "metadata": {
        "id": "8oZbyBO5W-_6"
      },
      "execution_count": null,
      "outputs": []
    },
    {
      "cell_type": "code",
      "source": [
        "print(binom_data)"
      ],
      "metadata": {
        "colab": {
          "base_uri": "https://localhost:8080/"
        },
        "id": "OeClstOlXPiC",
        "outputId": "c322e443-5678-42b6-9519-70f01db9de35"
      },
      "execution_count": null,
      "outputs": [
        {
          "output_type": "stream",
          "name": "stdout",
          "text": [
            "[0 3 0 1 0 1 0 2 1 0 1 1 0 1 2 0 0 1 1 2 0 0 0 1 0 4 0 0 0 0 3 0 2 1 1 4 2\n",
            " 1 0 0 2 0 3 1 0 3 4 2 1 2 0 0 1 3 0 1 1 0 1 1 1 1 0 0 1 1 1 1 1 0 1 2 2 0\n",
            " 1 0 2 2 1 1 1 0 1 1 1 1 1 0 0 0 2 0 2 1 2 1 0 0 0 1 1 1 1 2 2 1 1 3 1 2 0\n",
            " 3 0 0 1 2 1 3 1 1 2 1 1 2 1 1 1 1 0 0 1 1 0 2 1 0 1 0 0 1 0 0 4 4 1 0 1 0\n",
            " 1 0 3 1 1 2 1 2 0 0 1 2 3 1 0 3 1 2 1 1 3 1 0 1 0 2 1 1 2 1 2 0 0 1 2 0 0\n",
            " 0 1 2 1 2 1 0 2 3 2 4 0 0 1 1 0 0 0 0 0 2 1 1 1 1 2 2 1 1 1 3 1 1 0 1 0 1\n",
            " 1 1 0 2 0 0 2 0 0 0 0 0 2 0 2 1 0 1 1 0 2 1 2 0 1 3 0 1 0 0 1 1 0 0 1 3 3\n",
            " 0 1 0 0 1 0 0 2 0 0 1 0 0 1 2 1 2 2 1 0 1 1 1 2 0 0 2 1 0 1 0 4 1 1 2 3 1\n",
            " 0 0 1 2 2 1 0 0 0 2 1 0 0 4 2 1 1 1 0 1 2 3 0 0 2 1 0 1 1 1 0 4 0 2 2 2 2\n",
            " 0 1 1 0 0 1 1 0 1 2 1 1 2 0 2 0 2 1 3 0 1 2 0 2 0 1 1 2 2 1 2 2 1 1 1 0 1\n",
            " 0 1 0 1 1 0 1 0 2 1 1 2 3 0 1 1 0 1 2 0 0 0 0 1 1 1 0 1 1 0 0 1 1 1 0 0 1\n",
            " 1 2 0 0 2 2 0 1 1 1 1 1 2 1 0 2 1 0 1 1 0 1 1 1 0 2 0 0 0 0 0 3 0 1 4 2 1\n",
            " 1 2 1 1 1 0 2 2 1 1 0 0 2 2 1 1 1 2 0 0 0 2 2 1 1 0 0 0 1 2 0 0 2 1 3 0 1\n",
            " 0 1 4 3 1 0 0 2 0 2 0 0 0 3 1 1 1 0 0 1 0 3 1 1 0 2 3 0 1 0 1 2 0 1 4 2 0\n",
            " 0 0 0 4 0 1 1 0 1 1 2 0 2 1 0 1 1 1 1 3 1 0 1 1 0 1 0 1 0 2 0 1 1 2 2 2 1\n",
            " 2 2 1 0 1 0 2 1 1 2 2 0 0 4 1 1 1 1 0 3 0 2 1 2 0 1 1 1 1 1 0 0 3 2 0 1 1\n",
            " 3 1 0 0 2 2 2 1 0 0 1 1 2 0 0 1 2 1 2 1 2 1 0 0 0 2 2 1 1 2 0 1 1 2 1 2 1\n",
            " 1 1 1 0 2 0 3 0 0 0 3 3 1 0 0 2 2 1 0 0 1 1 1 1 1 0 0 1 3 2 1 0 1 1 1 0 0\n",
            " 2 3 2 2 4 0 1 0 1 0 0 0 1 1 1 1 1 0 1 1 0 1 1 0 0 1 1 3 0 1 2 0 2 0 1 0 1\n",
            " 0 0 1 3 1 0 0 0 0 1 0 0 1 1 0 0 1 0 1 3 0 2 0 1 2 0 1 1 1 1 1 0 2 0 0 3 2\n",
            " 0 1 2 1 1 0 4 2 2 1 1 0 1 0 2 0 0 2 4 0 0 0 1 1 1 1 1 0 0 1 0 0 0 2 1 2 1\n",
            " 0 0 0 3 1 1 2 1 1 1 1 1 2 2 0 2 3 1 0 1 2 1 1 2 0 2 1 1 0 0 1 1 2 0 1 2 1\n",
            " 2 2 1 1 1 0 1 1 2 1 2 0 1 0 1 0 2 2 2 0 1 1 2 1 0 0 0 0 1 2 1 0 1 1 1 0 2\n",
            " 2 0 2 0 0 1 3 1 2 1 0 0 1 1 2 2 2 1 2 3 2 0 0 2 3 0 2 0 0 2 1 0 1 1 0 1 1\n",
            " 2 2 0 0 1 2 0 1 1 0 1 1 1 0 0 2 1 0 3 1 1 0 1 1 1 0 0 1 0 2 1 1 1 3 1 0 0\n",
            " 2 1 0 4 0 2 0 0 1 2 1 2 1 2 1 1 3 1 0 1 0 0 1 2 0 2 1 1 1 0 1 1 2 0 0 1 1\n",
            " 1 3 1 1 0 0 2 4 0 0 1 1 1 1 1 0 1 0 0 0 3 1 0 1 2 2 2 1 2 1 0 2 1 0 1 0 1\n",
            " 1]\n"
          ]
        }
      ]
    },
    {
      "cell_type": "code",
      "source": [
        "np.unique(binom_data, return_counts = True)"
      ],
      "metadata": {
        "colab": {
          "base_uri": "https://localhost:8080/"
        },
        "id": "uGwoHd1ZXaHa",
        "outputId": "dde2d2e6-2dfa-4463-8378-33084de169e2"
      },
      "execution_count": null,
      "outputs": [
        {
          "output_type": "execute_result",
          "data": {
            "text/plain": [
              "(array([0, 1, 2, 3, 4]), array([339, 402, 190,  50,  19]))"
            ]
          },
          "metadata": {},
          "execution_count": 81
        }
      ]
    },
    {
      "cell_type": "code",
      "source": [
        "sns.histplot(binom_data, kde = True)"
      ],
      "metadata": {
        "colab": {
          "base_uri": "https://localhost:8080/",
          "height": 447
        },
        "id": "Xg7m1B5_X4lT",
        "outputId": "61f44812-6a42-4b9d-de6b-9777ab083f64"
      },
      "execution_count": null,
      "outputs": [
        {
          "output_type": "execute_result",
          "data": {
            "text/plain": [
              "<Axes: ylabel='Count'>"
            ]
          },
          "metadata": {},
          "execution_count": 82
        },
        {
          "output_type": "display_data",
          "data": {
            "text/plain": [
              "<Figure size 640x480 with 1 Axes>"
            ],
            "image/png": "[encoded data removed]"
          },
          "metadata": {}
        }
      ]
    },
    {
      "cell_type": "markdown",
      "source": [
        "# ***BERNOULLI DISTRIBUTION***"
      ],
      "metadata": {
        "id": "QgK41ihaRYuY"
      }
    },
    {
      "cell_type": "markdown",
      "source": [
        "\n",
        "\n",
        "*   This has only two answers: Success or Failure\n",
        "*   A specific type of binomial distribution\n",
        "\n"
      ],
      "metadata": {
        "id": "TOjVFf0hRdYn"
      }
    },
    {
      "cell_type": "code",
      "source": [
        "from scipy.stats import bernoulli"
      ],
      "metadata": {
        "id": "bV4JQCm2Rn42"
      },
      "execution_count": null,
      "outputs": []
    },
    {
      "cell_type": "code",
      "source": [
        "bernoulli_data = bernoulli.rvs(p = 0.5, size = 1000)"
      ],
      "metadata": {
        "id": "ZbxSGDxZRv_v"
      },
      "execution_count": null,
      "outputs": []
    },
    {
      "cell_type": "code",
      "source": [
        "sns.histplot(bernoulli_data, kde = True)"
      ],
      "metadata": {
        "colab": {
          "base_uri": "https://localhost:8080/",
          "height": 447
        },
        "id": "kQFQzDynSRFO",
        "outputId": "45a9b250-f211-4153-de75-9492108e29e3"
      },
      "execution_count": null,
      "outputs": [
        {
          "output_type": "execute_result",
          "data": {
            "text/plain": [
              "<Axes: ylabel='Count'>"
            ]
          },
          "metadata": {},
          "execution_count": 85
        },
        {
          "output_type": "display_data",
          "data": {
            "text/plain": [
              "<Figure size 640x480 with 1 Axes>"
            ],
            "image/png": "[encoded data removed]"
          },
          "metadata": {}
        }
      ]
    },
    {
      "cell_type": "code",
      "source": [
        "np.unique(bernoulli_data, return_counts=True)"
      ],
      "metadata": {
        "colab": {
          "base_uri": "https://localhost:8080/"
        },
        "id": "4kKuwf37StO4",
        "outputId": "5c3e40ae-491d-4ae8-e6f0-aa3f7419ae8b"
      },
      "execution_count": null,
      "outputs": [
        {
          "output_type": "execute_result",
          "data": {
            "text/plain": [
              "(array([0, 1]), array([497, 503]))"
            ]
          },
          "metadata": {},
          "execution_count": 86
        }
      ]
    },
    {
      "cell_type": "markdown",
      "source": [
        "# ***POISSON DISTRIBUTION***"
      ],
      "metadata": {
        "id": "rU6wAoGJbSV9"
      }
    },
    {
      "cell_type": "markdown",
      "source": [
        "\n",
        "\n",
        "*   Number of occurrences in a given time interval\n",
        "*   Ex: Number of calls from a call center\n",
        "\n"
      ],
      "metadata": {
        "id": "21J8vD2gbXON"
      }
    },
    {
      "cell_type": "code",
      "source": [
        "from scipy.stats import poisson"
      ],
      "metadata": {
        "id": "rI8ZGKoEdmNU"
      },
      "execution_count": null,
      "outputs": []
    },
    {
      "cell_type": "code",
      "source": [
        "poisson_data = poisson.rvs(mu = 5, size = 1000)"
      ],
      "metadata": {
        "id": "BXTfJSawdvMz"
      },
      "execution_count": null,
      "outputs": []
    },
    {
      "cell_type": "code",
      "source": [
        "sns.histplot(poisson_data, kde = True)"
      ],
      "metadata": {
        "colab": {
          "base_uri": "https://localhost:8080/",
          "height": 447
        },
        "id": "eMrjjBf2d6bs",
        "outputId": "866e0551-5882-462a-e66e-2eef2e462d20"
      },
      "execution_count": null,
      "outputs": [
        {
          "output_type": "execute_result",
          "data": {
            "text/plain": [
              "<Axes: ylabel='Count'>"
            ]
          },
          "metadata": {},
          "execution_count": 100
        },
        {
          "output_type": "display_data",
          "data": {
            "text/plain": [
              "<Figure size 640x480 with 1 Axes>"
            ],
            "image/png": "[encoded data removed]"
          },
          "metadata": {}
        }
      ]
    },
    {
      "cell_type": "code",
      "source": [
        "min(poisson_data), max(poisson_data)"
      ],
      "metadata": {
        "colab": {
          "base_uri": "https://localhost:8080/"
        },
        "id": "ruqpOLyceC0-",
        "outputId": "987ad82c-fbc4-4de0-e8af-d11a741e72f7"
      },
      "execution_count": null,
      "outputs": [
        {
          "output_type": "execute_result",
          "data": {
            "text/plain": [
              "(0, 12)"
            ]
          },
          "metadata": {},
          "execution_count": 99
        }
      ]
    },
    {
      "cell_type": "code",
      "source": [
        "np.unique(poisson_data, return_counts=True)"
      ],
      "metadata": {
        "colab": {
          "base_uri": "https://localhost:8080/"
        },
        "id": "0DjfoXpfeVrU",
        "outputId": "f9e061ea-9893-43be-8309-553c9b9fd4af"
      },
      "execution_count": null,
      "outputs": [
        {
          "output_type": "execute_result",
          "data": {
            "text/plain": [
              "(array([ 0,  1,  2,  3,  4,  5,  6,  7,  8,  9, 10, 11, 12]),\n",
              " array([  5,  27,  87, 123, 206, 198, 119, 101,  75,  36,  12,   7,   4]))"
            ]
          },
          "metadata": {},
          "execution_count": 101
        }
      ]
    }
  ]
}